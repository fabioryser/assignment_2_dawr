{
 "cells": [
  {
   "cell_type": "code",
   "execution_count": 254,
   "metadata": {
    "collapsed": true
   },
   "outputs": [],
   "source": [
    "import requests\n",
    "import pandas as pd\n",
    "\n",
    "\n",
    "def read_data():\n",
    "    \"\"\"reads location data for each municipality and merges it with the ranking data\"\"\"\n",
    "    df_safety = pd.read_csv('safety-processed.csv')\n",
    "\n",
    "    df_coordinates = pd.read_csv('WGS84_koordinaten_2019.csv', encoding='ISO-8859-1', header=0, sep=';')\n",
    "    df_coordinates = df_coordinates[df_coordinates['Kantonskürzel'] == 'LU']\n",
    "    df_coordinates = df_coordinates.drop_duplicates(subset='Ortschaftsname', keep='first')\n",
    "\n",
    "    df_coordinates['Ortschaftsname'] = df_coordinates['Ortschaftsname'].str.replace(' LU', '')\n",
    "    df_coordinates['Ortschaftsname'] = df_coordinates['Ortschaftsname'].str.replace('Escholzmatt',\n",
    "                                                                                    'Escholzmatt-Marbach')\n",
    "    df_coordinates['Ortschaftsname'] = df_coordinates['Ortschaftsname'].str.replace(' b. Willisau', '')\n",
    "\n",
    "    df_municipalities = pd.merge(df_safety, df_coordinates[['Ortschaftsname', 'E', 'N']], left_on='Gemeindename',\n",
    "                                 right_on='Ortschaftsname', how='left')\n",
    "    df_municipalities = df_municipalities.rename(columns={'E': 'Longitude', 'N': 'Latitude'})\n",
    "    return df_municipalities"
   ]
  },
  {
   "cell_type": "code",
   "execution_count": 255,
   "outputs": [],
   "source": [
    "def coop_data(filename: str):\n",
    "    \"\"\"adds a column with the search text to the coop data\"\"\"\n",
    "    df_coop = pd.read_csv( filename, header=0, sep=',')\n",
    "    df_coop['searchText'] = df_coop['Adresse'] + ' ' + df_coop['PLZ'].astype(str) + ' ' + df_coop['Ort']\n",
    "    return df_coop"
   ],
   "metadata": {
    "collapsed": false
   }
  },
  {
   "cell_type": "code",
   "execution_count": 256,
   "outputs": [
    {
     "name": "stderr",
     "output_type": "stream",
     "text": [
      "C:\\Users\\Fabio\\AppData\\Local\\Temp\\ipykernel_32480\\790559599.py:16: FutureWarning: The default value of regex will change from True to False in a future version.\n",
      "  df_coordinates['Ortschaftsname'] = df_coordinates['Ortschaftsname'].str.replace(' b. Willisau', '')\n"
     ]
    }
   ],
   "source": [
    "df_municipality = read_data()"
   ],
   "metadata": {
    "collapsed": false
   }
  },
  {
   "cell_type": "code",
   "execution_count": 257,
   "outputs": [],
   "source": [
    "df_coop = coop_data('coop-pronto.csv')"
   ],
   "metadata": {
    "collapsed": false
   }
  },
  {
   "cell_type": "code",
   "execution_count": 258,
   "outputs": [],
   "source": [
    "_API_URL = 'https://api3.geo.admin.ch/rest/services/api/SearchServer'"
   ],
   "metadata": {
    "collapsed": false
   }
  },
  {
   "cell_type": "code",
   "execution_count": 259,
   "outputs": [],
   "source": [
    "def search_api_to_json(searchText, layer):\n",
    "    url = f\"{_API_URL}?type=locations&searchText={searchText}&origins={layer}\"\n",
    "    return requests.get(url).json()"
   ],
   "metadata": {
    "collapsed": false
   }
  },
  {
   "cell_type": "code",
   "execution_count": 260,
   "outputs": [],
   "source": [
    "def get_lat_lon_from_api_json(json):\n",
    "    return json['results'][0]['attrs']['lon'], json['results'][0]['attrs']['lat']"
   ],
   "metadata": {
    "collapsed": false
   }
  },
  {
   "cell_type": "code",
   "execution_count": 261,
   "outputs": [
    {
     "data": {
      "text/plain": "                           Filialname               Adresse   PLZ  \\\n0             Coop Pronto Adligenswil     Luzernerstrasse 7  6043   \n1                  Coop Pronto Ebikon    Luzernerstrasse 22  6030   \n2              Coop Pronto Schüpfheim      Hindervormüli 15  6170   \n3             Coop Pronto Emmenbrücke  Rothenburgstrasse 24  6020   \n4             Coop Pronto Emmenbrücke      Seetalstrasse 44  6020   \n5                    Coop Pronto Horw      Kantonsstrasse 1  6048   \n6                  Coop Pronto Kriens    Obernauerstrasse 3  6010   \n7          Coop Pronto Luzern Bahnhof        Bahnhofplatz 2  6003   \n8    Coop Pronto Luzern Brünigstrasse       Brünigstrasse 7  6005   \n9   Coop Pronto Luzern Pilatusstrasse     Pilatusstrasse 20  6003   \n10              Coop Pronto Wohlhusen   Menznauerstrasse 29  6110   \n11         Coop Pronto Luzern Sprengi      Zürichstrasse 43  6004   \n12           Coop Pronto Dagmersellen  Altishoferstrasse 33  6252   \n13               Coop Pronto Rotkreuz        Blegistrasse 2  6343   \n14                Coop Pronto Sempach    Luzernerstrasse 11  6204   \n15                 Coop Pronto Sursee     Bahnhofstrasse 19  6210   \n16               Coop Pronto Hochdorf  Alte Urswilstrasse 1  6280   \n\n             Ort                              searchText Longitude   Latitude  \n0    Adligenswil      Luzernerstrasse 7 6043 Adligenswil    8.3576  47.063889  \n1         Ebikon          Luzernerstrasse 22 6030 Ebikon  8.334073  47.077675  \n2     Schüpfheim        Hindervormüli 15 6170 Schüpfheim   8.00747  46.945309  \n3    Emmenbrücke   Rothenburgstrasse 24 6020 Emmenbrücke  8.272595  47.084312  \n4    Emmenbrücke       Seetalstrasse 44 6020 Emmenbrücke  8.291343  47.074116  \n5           Horw              Kantonsstrasse 1 6048 Horw  8.305859  47.025272  \n6         Kriens          Obernauerstrasse 3 6010 Kriens  8.268352  47.033665  \n7         Luzern              Bahnhofplatz 2 6003 Luzern  8.309069  47.050335  \n8         Luzern             Brünigstrasse 7 6005 Luzern  8.312065   47.04324  \n9         Luzern           Pilatusstrasse 20 6003 Luzern  8.305802  47.048717  \n10     Wohlhusen      Menznauerstrasse 29 6110 Wohlhusen  8.073475   47.06094  \n11        Luzern            Zürichstrasse 43 6004 Luzern  8.309424  47.058407  \n12  Dagmersellen  Altishoferstrasse 33 6252 Dagmersellen  7.984803  47.209698  \n13      Rotkreuz            Blegistrasse 2 6343 Rotkreuz  8.433973  47.147793  \n14       Sempach         Luzernerstrasse 11 6204 Sempach  8.192176   47.13216  \n15        Sursee           Bahnhofstrasse 19 6210 Sursee  8.104085  47.172447  \n16      Hochdorf      Alte Urswilstrasse 1 6280 Hochdorf  8.290112  47.165573  ",
      "text/html": "<div>\n<style scoped>\n    .dataframe tbody tr th:only-of-type {\n        vertical-align: middle;\n    }\n\n    .dataframe tbody tr th {\n        vertical-align: top;\n    }\n\n    .dataframe thead th {\n        text-align: right;\n    }\n</style>\n<table border=\"1\" class=\"dataframe\">\n  <thead>\n    <tr style=\"text-align: right;\">\n      <th></th>\n      <th>Filialname</th>\n      <th>Adresse</th>\n      <th>PLZ</th>\n      <th>Ort</th>\n      <th>searchText</th>\n      <th>Longitude</th>\n      <th>Latitude</th>\n    </tr>\n  </thead>\n  <tbody>\n    <tr>\n      <th>0</th>\n      <td>Coop Pronto Adligenswil</td>\n      <td>Luzernerstrasse 7</td>\n      <td>6043</td>\n      <td>Adligenswil</td>\n      <td>Luzernerstrasse 7 6043 Adligenswil</td>\n      <td>8.3576</td>\n      <td>47.063889</td>\n    </tr>\n    <tr>\n      <th>1</th>\n      <td>Coop Pronto Ebikon</td>\n      <td>Luzernerstrasse 22</td>\n      <td>6030</td>\n      <td>Ebikon</td>\n      <td>Luzernerstrasse 22 6030 Ebikon</td>\n      <td>8.334073</td>\n      <td>47.077675</td>\n    </tr>\n    <tr>\n      <th>2</th>\n      <td>Coop Pronto Schüpfheim</td>\n      <td>Hindervormüli 15</td>\n      <td>6170</td>\n      <td>Schüpfheim</td>\n      <td>Hindervormüli 15 6170 Schüpfheim</td>\n      <td>8.00747</td>\n      <td>46.945309</td>\n    </tr>\n    <tr>\n      <th>3</th>\n      <td>Coop Pronto Emmenbrücke</td>\n      <td>Rothenburgstrasse 24</td>\n      <td>6020</td>\n      <td>Emmenbrücke</td>\n      <td>Rothenburgstrasse 24 6020 Emmenbrücke</td>\n      <td>8.272595</td>\n      <td>47.084312</td>\n    </tr>\n    <tr>\n      <th>4</th>\n      <td>Coop Pronto Emmenbrücke</td>\n      <td>Seetalstrasse 44</td>\n      <td>6020</td>\n      <td>Emmenbrücke</td>\n      <td>Seetalstrasse 44 6020 Emmenbrücke</td>\n      <td>8.291343</td>\n      <td>47.074116</td>\n    </tr>\n    <tr>\n      <th>5</th>\n      <td>Coop Pronto Horw</td>\n      <td>Kantonsstrasse 1</td>\n      <td>6048</td>\n      <td>Horw</td>\n      <td>Kantonsstrasse 1 6048 Horw</td>\n      <td>8.305859</td>\n      <td>47.025272</td>\n    </tr>\n    <tr>\n      <th>6</th>\n      <td>Coop Pronto Kriens</td>\n      <td>Obernauerstrasse 3</td>\n      <td>6010</td>\n      <td>Kriens</td>\n      <td>Obernauerstrasse 3 6010 Kriens</td>\n      <td>8.268352</td>\n      <td>47.033665</td>\n    </tr>\n    <tr>\n      <th>7</th>\n      <td>Coop Pronto Luzern Bahnhof</td>\n      <td>Bahnhofplatz 2</td>\n      <td>6003</td>\n      <td>Luzern</td>\n      <td>Bahnhofplatz 2 6003 Luzern</td>\n      <td>8.309069</td>\n      <td>47.050335</td>\n    </tr>\n    <tr>\n      <th>8</th>\n      <td>Coop Pronto Luzern Brünigstrasse</td>\n      <td>Brünigstrasse 7</td>\n      <td>6005</td>\n      <td>Luzern</td>\n      <td>Brünigstrasse 7 6005 Luzern</td>\n      <td>8.312065</td>\n      <td>47.04324</td>\n    </tr>\n    <tr>\n      <th>9</th>\n      <td>Coop Pronto Luzern Pilatusstrasse</td>\n      <td>Pilatusstrasse 20</td>\n      <td>6003</td>\n      <td>Luzern</td>\n      <td>Pilatusstrasse 20 6003 Luzern</td>\n      <td>8.305802</td>\n      <td>47.048717</td>\n    </tr>\n    <tr>\n      <th>10</th>\n      <td>Coop Pronto Wohlhusen</td>\n      <td>Menznauerstrasse 29</td>\n      <td>6110</td>\n      <td>Wohlhusen</td>\n      <td>Menznauerstrasse 29 6110 Wohlhusen</td>\n      <td>8.073475</td>\n      <td>47.06094</td>\n    </tr>\n    <tr>\n      <th>11</th>\n      <td>Coop Pronto Luzern Sprengi</td>\n      <td>Zürichstrasse 43</td>\n      <td>6004</td>\n      <td>Luzern</td>\n      <td>Zürichstrasse 43 6004 Luzern</td>\n      <td>8.309424</td>\n      <td>47.058407</td>\n    </tr>\n    <tr>\n      <th>12</th>\n      <td>Coop Pronto Dagmersellen</td>\n      <td>Altishoferstrasse 33</td>\n      <td>6252</td>\n      <td>Dagmersellen</td>\n      <td>Altishoferstrasse 33 6252 Dagmersellen</td>\n      <td>7.984803</td>\n      <td>47.209698</td>\n    </tr>\n    <tr>\n      <th>13</th>\n      <td>Coop Pronto Rotkreuz</td>\n      <td>Blegistrasse 2</td>\n      <td>6343</td>\n      <td>Rotkreuz</td>\n      <td>Blegistrasse 2 6343 Rotkreuz</td>\n      <td>8.433973</td>\n      <td>47.147793</td>\n    </tr>\n    <tr>\n      <th>14</th>\n      <td>Coop Pronto Sempach</td>\n      <td>Luzernerstrasse 11</td>\n      <td>6204</td>\n      <td>Sempach</td>\n      <td>Luzernerstrasse 11 6204 Sempach</td>\n      <td>8.192176</td>\n      <td>47.13216</td>\n    </tr>\n    <tr>\n      <th>15</th>\n      <td>Coop Pronto Sursee</td>\n      <td>Bahnhofstrasse 19</td>\n      <td>6210</td>\n      <td>Sursee</td>\n      <td>Bahnhofstrasse 19 6210 Sursee</td>\n      <td>8.104085</td>\n      <td>47.172447</td>\n    </tr>\n    <tr>\n      <th>16</th>\n      <td>Coop Pronto Hochdorf</td>\n      <td>Alte Urswilstrasse 1</td>\n      <td>6280</td>\n      <td>Hochdorf</td>\n      <td>Alte Urswilstrasse 1 6280 Hochdorf</td>\n      <td>8.290112</td>\n      <td>47.165573</td>\n    </tr>\n  </tbody>\n</table>\n</div>"
     },
     "execution_count": 261,
     "metadata": {},
     "output_type": "execute_result"
    }
   ],
   "source": [
    "df_coop['Longitude'] = None\n",
    "df_coop['Latitude'] = None\n",
    "\n",
    "for i, searchText in df_coop['searchText'].items():\n",
    "    search_result = search_api_to_json(searchText, 'address')\n",
    "    if search_result['results']:\n",
    "        longitude, latitude = get_lat_lon_from_api_json(search_result)\n",
    "        df_coop.loc[i, 'Longitude'] = longitude\n",
    "        df_coop.loc[i, 'Latitude'] = latitude\n",
    "\n",
    "df_coop"
   ],
   "metadata": {
    "collapsed": false
   }
  },
  {
   "cell_type": "code",
   "execution_count": 262,
   "outputs": [],
   "source": [
    "def haversine_distance(lat1, lon1, lat2, lon2):\n",
    "    \"\"\"\n",
    "    Berechnet die Entfernung zwischen zwei geographischen Koordinaten\n",
    "    in Kilometern mit der Haversine-Formel.\n",
    "    \"\"\"\n",
    "    from math import radians, cos, sin, asin, sqrt\n",
    "    # Konvertieren in Radians\n",
    "    lon1, lat1, lon2, lat2 = map(radians, [lon1, lat1, lon2, lat2])\n",
    "    # Haversine-Formel\n",
    "    dlon = lon2 - lon1\n",
    "    dlat = lat2 - lat1\n",
    "    a = sin(dlat / 2) ** 2 + cos(lat1) * cos(lat2) * sin(dlon / 2) ** 2\n",
    "    c = 2 * asin(sqrt(a))\n",
    "    # Radius der Erde (in Kilometern)\n",
    "    r = 6371\n",
    "    # Berechnung der Entfernung\n",
    "    return c * r"
   ],
   "metadata": {
    "collapsed": false
   }
  },
  {
   "cell_type": "code",
   "execution_count": 263,
   "outputs": [
    {
     "data": {
      "text/plain": "    Score Gemeindename  Total Anzahl Personen Sozialhilfe  \\\n0   16.75  Adligenswil                               42.0   \n1    7.25        Aesch                               11.0   \n2    9.75    Alberswil                                9.0   \n3   10.00     Altbüron                               25.0   \n4   14.00   Altishofen                               25.0   \n..    ...          ...                                ...   \n75   1.25        Honau                                0.0   \n76  20.75         Rain                                0.0   \n77   0.00       Romoos                                0.0   \n78  20.75     Schenkon                                0.0   \n79   3.50  Schlierbach                                0.0   \n\n    Total Anzahl Dossiers  Total Sozialhilfequote  \\\n0                    29.0                     0.8   \n1                    10.0                     0.9   \n2                     5.0                     1.4   \n3                    12.0                     2.5   \n4                    17.0                     1.3   \n..                    ...                     ...   \n75                    0.0                     0.0   \n76                    0.0                     0.0   \n77                    0.0                     0.0   \n78                    0.0                     0.0   \n79                    0.0                     0.0   \n\n    Total Sozialhilfequote Schweizer  Total Sozialhilfequote Ausländer  \\\n0                                0.4                               3.6   \n1                                0.9                               0.6   \n2                                1.0                               3.3   \n3                                2.1                               2.7   \n4                                0.5                               5.3   \n..                               ...                               ...   \n75                               0.0                               0.0   \n76                               0.0                               0.0   \n77                               0.0                               0.0   \n78                               0.0                               0.0   \n79                               0.0                               0.0   \n\n    Alter 0-17  Alter 18-64  Alter 65+  ...  davon verletze Personen  \\\n0          1.2          0.9        0.2  ...                        3   \n1          0.5          1.2        0.0  ...                        4   \n2          2.6          1.3        0.0  ...                        4   \n3          6.1          2.0        0.0  ...                        1   \n4          2.1          1.3        0.0  ...                        5   \n..         ...          ...        ...  ...                      ...   \n75         0.0          0.0        0.0  ...                        1   \n76         0.0          0.0        0.0  ...                       17   \n77         0.0          0.0        0.0  ...                        0   \n78         0.0          0.0        0.0  ...                       11   \n79         0.0          0.0        0.0  ...                        2   \n\n    Lenker/innen  Mitfahrer/innen  Fussgänger/innen  Fahrzeugähnliche Geräte  \\\n0              3                0                 0                        0   \n1              3                1                 0                        0   \n2              4                0                 0                        0   \n3              1                0                 0                        0   \n4              4                1                 0                        0   \n..           ...              ...               ...                      ...   \n75             1                0                 0                        0   \n76            11                4                 2                        0   \n77             0                0                 0                        0   \n78             8                1                 2                        0   \n79             2                0                 0                        0   \n\n    Rank  Ortschaftsname  Longitude  Latitude  \\\n0   27.0     Adligenswil      8.365    47.071   \n1   10.0           Aesch      8.239    47.255   \n2   16.0       Alberswil      7.997    47.150   \n3   17.0        Altbüron      7.882    47.180   \n4   25.0      Altishofen      7.960    47.202   \n..   ...             ...        ...       ...   \n75   2.0           Honau      8.406    47.133   \n76  31.0            Rain      8.263    47.130   \n77   1.0          Romoos      8.024    47.011   \n78  31.0        Schenkon      8.136    47.173   \n79   5.0     Schlierbach      8.110    47.226   \n\n    Distanz zu nächsten Prontoshop in km  \n0                               0.969228  \n1                              10.666998  \n2                               6.701790  \n3                               8.440348  \n4                               2.059905  \n..                                   ...  \n75                              2.679949  \n76                              4.455348  \n77                              6.700320  \n78                              2.413216  \n79                              5.971544  \n\n[80 rows x 29 columns]",
      "text/html": "<div>\n<style scoped>\n    .dataframe tbody tr th:only-of-type {\n        vertical-align: middle;\n    }\n\n    .dataframe tbody tr th {\n        vertical-align: top;\n    }\n\n    .dataframe thead th {\n        text-align: right;\n    }\n</style>\n<table border=\"1\" class=\"dataframe\">\n  <thead>\n    <tr style=\"text-align: right;\">\n      <th></th>\n      <th>Score</th>\n      <th>Gemeindename</th>\n      <th>Total Anzahl Personen Sozialhilfe</th>\n      <th>Total Anzahl Dossiers</th>\n      <th>Total Sozialhilfequote</th>\n      <th>Total Sozialhilfequote Schweizer</th>\n      <th>Total Sozialhilfequote Ausländer</th>\n      <th>Alter 0-17</th>\n      <th>Alter 18-64</th>\n      <th>Alter 65+</th>\n      <th>...</th>\n      <th>davon verletze Personen</th>\n      <th>Lenker/innen</th>\n      <th>Mitfahrer/innen</th>\n      <th>Fussgänger/innen</th>\n      <th>Fahrzeugähnliche Geräte</th>\n      <th>Rank</th>\n      <th>Ortschaftsname</th>\n      <th>Longitude</th>\n      <th>Latitude</th>\n      <th>Distanz zu nächsten Prontoshop in km</th>\n    </tr>\n  </thead>\n  <tbody>\n    <tr>\n      <th>0</th>\n      <td>16.75</td>\n      <td>Adligenswil</td>\n      <td>42.0</td>\n      <td>29.0</td>\n      <td>0.8</td>\n      <td>0.4</td>\n      <td>3.6</td>\n      <td>1.2</td>\n      <td>0.9</td>\n      <td>0.2</td>\n      <td>...</td>\n      <td>3</td>\n      <td>3</td>\n      <td>0</td>\n      <td>0</td>\n      <td>0</td>\n      <td>27.0</td>\n      <td>Adligenswil</td>\n      <td>8.365</td>\n      <td>47.071</td>\n      <td>0.969228</td>\n    </tr>\n    <tr>\n      <th>1</th>\n      <td>7.25</td>\n      <td>Aesch</td>\n      <td>11.0</td>\n      <td>10.0</td>\n      <td>0.9</td>\n      <td>0.9</td>\n      <td>0.6</td>\n      <td>0.5</td>\n      <td>1.2</td>\n      <td>0.0</td>\n      <td>...</td>\n      <td>4</td>\n      <td>3</td>\n      <td>1</td>\n      <td>0</td>\n      <td>0</td>\n      <td>10.0</td>\n      <td>Aesch</td>\n      <td>8.239</td>\n      <td>47.255</td>\n      <td>10.666998</td>\n    </tr>\n    <tr>\n      <th>2</th>\n      <td>9.75</td>\n      <td>Alberswil</td>\n      <td>9.0</td>\n      <td>5.0</td>\n      <td>1.4</td>\n      <td>1.0</td>\n      <td>3.3</td>\n      <td>2.6</td>\n      <td>1.3</td>\n      <td>0.0</td>\n      <td>...</td>\n      <td>4</td>\n      <td>4</td>\n      <td>0</td>\n      <td>0</td>\n      <td>0</td>\n      <td>16.0</td>\n      <td>Alberswil</td>\n      <td>7.997</td>\n      <td>47.150</td>\n      <td>6.701790</td>\n    </tr>\n    <tr>\n      <th>3</th>\n      <td>10.00</td>\n      <td>Altbüron</td>\n      <td>25.0</td>\n      <td>12.0</td>\n      <td>2.5</td>\n      <td>2.1</td>\n      <td>2.7</td>\n      <td>6.1</td>\n      <td>2.0</td>\n      <td>0.0</td>\n      <td>...</td>\n      <td>1</td>\n      <td>1</td>\n      <td>0</td>\n      <td>0</td>\n      <td>0</td>\n      <td>17.0</td>\n      <td>Altbüron</td>\n      <td>7.882</td>\n      <td>47.180</td>\n      <td>8.440348</td>\n    </tr>\n    <tr>\n      <th>4</th>\n      <td>14.00</td>\n      <td>Altishofen</td>\n      <td>25.0</td>\n      <td>17.0</td>\n      <td>1.3</td>\n      <td>0.5</td>\n      <td>5.3</td>\n      <td>2.1</td>\n      <td>1.3</td>\n      <td>0.0</td>\n      <td>...</td>\n      <td>5</td>\n      <td>4</td>\n      <td>1</td>\n      <td>0</td>\n      <td>0</td>\n      <td>25.0</td>\n      <td>Altishofen</td>\n      <td>7.960</td>\n      <td>47.202</td>\n      <td>2.059905</td>\n    </tr>\n    <tr>\n      <th>...</th>\n      <td>...</td>\n      <td>...</td>\n      <td>...</td>\n      <td>...</td>\n      <td>...</td>\n      <td>...</td>\n      <td>...</td>\n      <td>...</td>\n      <td>...</td>\n      <td>...</td>\n      <td>...</td>\n      <td>...</td>\n      <td>...</td>\n      <td>...</td>\n      <td>...</td>\n      <td>...</td>\n      <td>...</td>\n      <td>...</td>\n      <td>...</td>\n      <td>...</td>\n      <td>...</td>\n    </tr>\n    <tr>\n      <th>75</th>\n      <td>1.25</td>\n      <td>Honau</td>\n      <td>0.0</td>\n      <td>0.0</td>\n      <td>0.0</td>\n      <td>0.0</td>\n      <td>0.0</td>\n      <td>0.0</td>\n      <td>0.0</td>\n      <td>0.0</td>\n      <td>...</td>\n      <td>1</td>\n      <td>1</td>\n      <td>0</td>\n      <td>0</td>\n      <td>0</td>\n      <td>2.0</td>\n      <td>Honau</td>\n      <td>8.406</td>\n      <td>47.133</td>\n      <td>2.679949</td>\n    </tr>\n    <tr>\n      <th>76</th>\n      <td>20.75</td>\n      <td>Rain</td>\n      <td>0.0</td>\n      <td>0.0</td>\n      <td>0.0</td>\n      <td>0.0</td>\n      <td>0.0</td>\n      <td>0.0</td>\n      <td>0.0</td>\n      <td>0.0</td>\n      <td>...</td>\n      <td>17</td>\n      <td>11</td>\n      <td>4</td>\n      <td>2</td>\n      <td>0</td>\n      <td>31.0</td>\n      <td>Rain</td>\n      <td>8.263</td>\n      <td>47.130</td>\n      <td>4.455348</td>\n    </tr>\n    <tr>\n      <th>77</th>\n      <td>0.00</td>\n      <td>Romoos</td>\n      <td>0.0</td>\n      <td>0.0</td>\n      <td>0.0</td>\n      <td>0.0</td>\n      <td>0.0</td>\n      <td>0.0</td>\n      <td>0.0</td>\n      <td>0.0</td>\n      <td>...</td>\n      <td>0</td>\n      <td>0</td>\n      <td>0</td>\n      <td>0</td>\n      <td>0</td>\n      <td>1.0</td>\n      <td>Romoos</td>\n      <td>8.024</td>\n      <td>47.011</td>\n      <td>6.700320</td>\n    </tr>\n    <tr>\n      <th>78</th>\n      <td>20.75</td>\n      <td>Schenkon</td>\n      <td>0.0</td>\n      <td>0.0</td>\n      <td>0.0</td>\n      <td>0.0</td>\n      <td>0.0</td>\n      <td>0.0</td>\n      <td>0.0</td>\n      <td>0.0</td>\n      <td>...</td>\n      <td>11</td>\n      <td>8</td>\n      <td>1</td>\n      <td>2</td>\n      <td>0</td>\n      <td>31.0</td>\n      <td>Schenkon</td>\n      <td>8.136</td>\n      <td>47.173</td>\n      <td>2.413216</td>\n    </tr>\n    <tr>\n      <th>79</th>\n      <td>3.50</td>\n      <td>Schlierbach</td>\n      <td>0.0</td>\n      <td>0.0</td>\n      <td>0.0</td>\n      <td>0.0</td>\n      <td>0.0</td>\n      <td>0.0</td>\n      <td>0.0</td>\n      <td>0.0</td>\n      <td>...</td>\n      <td>2</td>\n      <td>2</td>\n      <td>0</td>\n      <td>0</td>\n      <td>0</td>\n      <td>5.0</td>\n      <td>Schlierbach</td>\n      <td>8.110</td>\n      <td>47.226</td>\n      <td>5.971544</td>\n    </tr>\n  </tbody>\n</table>\n<p>80 rows × 29 columns</p>\n</div>"
     },
     "execution_count": 263,
     "metadata": {},
     "output_type": "execute_result"
    }
   ],
   "source": [
    "for i, row in df_municipality.iterrows():\n",
    "    distances = []\n",
    "    for j, coop_row in df_coop.iterrows():\n",
    "        distance = haversine_distance(row['Latitude'], row['Longitude'], coop_row['Latitude'], coop_row['Longitude'])\n",
    "        distances.append(distance)\n",
    "    df_municipality.at[i, 'Distanz zu nächsten Prontoshop in km'] = min(distances)\n",
    "\n",
    "\n",
    "# Spalte 'Score' soll die erste Spalte sein Score ist im Moment die 5. letzte Spalte\n",
    "\n",
    "cols = list(df_municipality.columns)\n",
    "score_index = cols.index('Score')\n",
    "cols = [cols[score_index]] + cols[:score_index] + cols[score_index+1:]\n",
    "\n",
    "df_municipality = df_municipality.reindex(columns=cols)\n",
    "\n",
    "# schreibe in ein csv names asn2.csv\n",
    "df_municipality.to_csv('asn2.csv')\n",
    "\n",
    "df_municipality"
   ],
   "metadata": {
    "collapsed": false
   }
  },
  {
   "cell_type": "code",
   "execution_count": 263,
   "outputs": [],
   "source": [],
   "metadata": {
    "collapsed": false
   }
  }
 ],
 "metadata": {
  "kernelspec": {
   "display_name": "Python 3",
   "language": "python",
   "name": "python3"
  },
  "language_info": {
   "codemirror_mode": {
    "name": "ipython",
    "version": 2
   },
   "file_extension": ".py",
   "mimetype": "text/x-python",
   "name": "python",
   "nbconvert_exporter": "python",
   "pygments_lexer": "ipython2",
   "version": "2.7.6"
  }
 },
 "nbformat": 4,
 "nbformat_minor": 0
}
